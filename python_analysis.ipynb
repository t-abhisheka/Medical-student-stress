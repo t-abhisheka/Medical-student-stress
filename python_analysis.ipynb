{
  "cells": [
    {
      "cell_type": "markdown",
      "source": [
        "# **Data Preparation**"
      ],
      "metadata": {
        "id": "tOOYvXlaWgzH"
      },
      "id": "tOOYvXlaWgzH"
    },
    {
      "cell_type": "markdown",
      "metadata": {
        "id": "nctZoBRx9jnC"
      },
      "source": [
        "## Import Necessary Libraries"
      ],
      "id": "nctZoBRx9jnC"
    },
    {
      "cell_type": "code",
      "execution_count": null,
      "metadata": {
        "id": "NzFSOia6ETHC"
      },
      "outputs": [],
      "source": [
        "import pandas as pd\n",
        "import numpy as np"
      ],
      "id": "NzFSOia6ETHC"
    },
    {
      "cell_type": "code",
      "source": [
        "import seaborn as sns\n",
        "import matplotlib.pyplot as plt"
      ],
      "metadata": {
        "id": "s_TkAI_SVkdL"
      },
      "id": "s_TkAI_SVkdL",
      "execution_count": null,
      "outputs": []
    },
    {
      "cell_type": "markdown",
      "metadata": {
        "id": "1YBnRodv9yCw"
      },
      "source": [
        "## Import Data"
      ],
      "id": "1YBnRodv9yCw"
    },
    {
      "cell_type": "code",
      "execution_count": null,
      "metadata": {
        "id": "l8ReOuVocXQf"
      },
      "outputs": [],
      "source": [
        "from google.colab import drive\n",
        "drive.mount('/content/drive')"
      ],
      "id": "l8ReOuVocXQf"
    },
    {
      "cell_type": "code",
      "execution_count": null,
      "metadata": {
        "id": "TNBw6zYJcfra"
      },
      "outputs": [],
      "source": [
        "pd.set_option('display.max_columns', None)\n",
        "dataset = pd.read_csv(\"/content/drive/MyDrive/Colab Notebooks/dataset/Data_set.csv\")"
      ],
      "id": "TNBw6zYJcfra"
    },
    {
      "cell_type": "markdown",
      "metadata": {
        "id": "SUp4Dmvo99LW"
      },
      "source": [
        "## Adding Nessesary Column"
      ],
      "id": "SUp4Dmvo99LW"
    },
    {
      "cell_type": "markdown",
      "metadata": {
        "id": "sbK6ardc-sf0"
      },
      "source": [
        "### Part B"
      ],
      "id": "sbK6ardc-sf0"
    },
    {
      "cell_type": "code",
      "execution_count": null,
      "metadata": {
        "id": "d13d6d0f"
      },
      "outputs": [],
      "source": [
        "def part_b_values(colValue):\n",
        "    if colValue == '0 - never':\n",
        "        return 0\n",
        "    if colValue == '1 - almost never':\n",
        "        return 1\n",
        "    if colValue == '2 - sometimes':\n",
        "        return 2\n",
        "    if colValue == '3 - farly often':\n",
        "        return 3\n",
        "    if colValue == '4 - very often':\n",
        "        return 4\n",
        "\n",
        "def part_b_values_reverse(colValue):\n",
        "    if colValue == '0 - never':\n",
        "        return 4\n",
        "    if colValue == '1 - almost never':\n",
        "        return 3\n",
        "    if colValue == '2 - sometimes':\n",
        "        return 2\n",
        "    if colValue == '3 - farly often':\n",
        "        return 1\n",
        "    if colValue == '4 - very often':\n",
        "        return 0"
      ],
      "id": "d13d6d0f"
    },
    {
      "cell_type": "code",
      "execution_count": null,
      "metadata": {
        "id": "034bb489"
      },
      "outputs": [],
      "source": [
        "def get_part_b_values():\n",
        "    x = (dataset['part_b_q1'].apply(part_b_values) \n",
        "        + dataset['part_b_q2'].apply(part_b_values) \n",
        "        + dataset['part_b_q3'].apply(part_b_values)  \n",
        "        + dataset['part_b_q4'].apply(part_b_values_reverse) \n",
        "        + dataset['part_b_q5'].apply(part_b_values_reverse) \n",
        "        + dataset['part_b_q6'].apply(part_b_values) \n",
        "        + dataset['part_b_q7'].apply(part_b_values_reverse) \n",
        "        + dataset['part_b_q8'].apply(part_b_values_reverse) \n",
        "        + dataset['part_b_q9'].apply(part_b_values) \n",
        "        + dataset['part_b_q10'].apply(part_b_values))\n",
        "    return x"
      ],
      "id": "034bb489"
    },
    {
      "cell_type": "code",
      "execution_count": null,
      "metadata": {
        "id": "5143f68f"
      },
      "outputs": [],
      "source": [
        "dataset['stress_score_part_b'] = get_part_b_values()"
      ],
      "id": "5143f68f"
    },
    {
      "cell_type": "code",
      "execution_count": null,
      "metadata": {
        "id": "7abdf352"
      },
      "outputs": [],
      "source": [
        "def get_stress(colValue):\n",
        "    if (colValue < 13 and colValue > 0):\n",
        "        return 'low_stress'\n",
        "    elif (colValue < 28 and colValue > 13):\n",
        "        return 'moderate_stress'\n",
        "    elif (colValue < 41 and colValue > 27):\n",
        "        return 'high_perceived_stress'\n",
        "\n",
        "dataset['stress_level_part_b'] = dataset['stress_score_part_b'].apply(get_stress)"
      ],
      "id": "7abdf352"
    },
    {
      "cell_type": "markdown",
      "metadata": {
        "id": "8XUXj0HJ-WzG"
      },
      "source": [
        "### Part C"
      ],
      "id": "8XUXj0HJ-WzG"
    },
    {
      "cell_type": "code",
      "execution_count": null,
      "metadata": {
        "id": "46af7ec1"
      },
      "outputs": [],
      "source": [
        "def part_c_values(colValue):\n",
        "    if colValue == '1 - disagree entirely':\n",
        "        return 1\n",
        "    if colValue == '2 - disagree for the most part':\n",
        "        return 2\n",
        "    if colValue == '3 - undecided':\n",
        "        return 3\n",
        "    if colValue == '4 - agree for the most part' or colValue == '4 - agree fort the most part':\n",
        "        return 4\n",
        "    if colValue == '5 - agree entirely':\n",
        "        return 5"
      ],
      "id": "46af7ec1"
    },
    {
      "cell_type": "code",
      "execution_count": null,
      "metadata": {
        "id": "25561846"
      },
      "outputs": [],
      "source": [
        "def part_c_valueseeee(colValue):\n",
        "    if colValue == '1 - disagree entirely':\n",
        "        return 1\n",
        "    if colValue == '2 - disagree for the most part':\n",
        "        return 2\n",
        "    if colValue == '3 - undecided':\n",
        "        return 3\n",
        "    if colValue == '4 - agree fort the most part':\n",
        "        return 4\n",
        "    if colValue == '5 - agree entirely':\n",
        "        return 5"
      ],
      "id": "25561846"
    },
    {
      "cell_type": "code",
      "execution_count": null,
      "metadata": {
        "id": "481ddd87"
      },
      "outputs": [],
      "source": [
        "def get_part_c_academic_score():\n",
        "    x = (dataset['part_c_academic_q1'].apply(part_c_values)\n",
        "         + dataset['part_c_academic_q2'].apply(part_c_values)\n",
        "         + dataset['part_c_academic_q3'].apply(part_c_values)\n",
        "         + dataset['part_c_academic_q4'].apply(part_c_values)\n",
        "         + dataset['part_c_academic_q5'].apply(part_c_values)\n",
        "         + dataset['part_c_academic_q6'].apply(part_c_values)\n",
        "         + dataset['part_c_academic_q7'].apply(part_c_values)) / 7\n",
        "    return x"
      ],
      "id": "481ddd87"
    },
    {
      "cell_type": "code",
      "execution_count": null,
      "metadata": {
        "id": "5e4ad8d1"
      },
      "outputs": [],
      "source": [
        "def get_part_c_psychological_score():\n",
        "    x = (dataset['part_c_psychological_q1'].apply(part_c_values)\n",
        "         + dataset['part_c_psychological_q2'].apply(part_c_values)\n",
        "         + dataset['part_c_psychological_q3'].apply(part_c_values)) / 3\n",
        "    return x"
      ],
      "id": "5e4ad8d1"
    },
    {
      "cell_type": "code",
      "execution_count": null,
      "metadata": {
        "id": "96f1983e"
      },
      "outputs": [],
      "source": [
        "def get_part_c_social_score():\n",
        "    x = (dataset['part_c_social_q1'].apply(part_c_values)\n",
        "         + dataset['part_c_social_q2'].apply(part_c_values)\n",
        "         + dataset['part_c_social_q3'].apply(part_c_values)\n",
        "         + dataset['part_c_social_q4'].apply(part_c_values)) / 4\n",
        "    return x"
      ],
      "id": "96f1983e"
    },
    {
      "cell_type": "code",
      "execution_count": null,
      "metadata": {
        "id": "be9e2bb9"
      },
      "outputs": [],
      "source": [
        "dataset['part_c_academic_score_avarage'] = get_part_c_academic_score()\n",
        "dataset['part_c_psychological_score_avarage'] = get_part_c_psychological_score()\n",
        "dataset['part_c_social_score_avarage'] = get_part_c_social_score()"
      ],
      "id": "be9e2bb9"
    },
    {
      "cell_type": "markdown",
      "metadata": {
        "id": "y40di578-jS2"
      },
      "source": [
        "### Part D"
      ],
      "id": "y40di578-jS2"
    },
    {
      "cell_type": "code",
      "execution_count": null,
      "metadata": {
        "id": "0aa3eccb"
      },
      "outputs": [],
      "source": [
        "def part_d_values(colValue):\n",
        "    if colValue == 'I haven\\'t been doing this at all - 1':\n",
        "        return 1\n",
        "    if colValue == 'A little bit - 2':\n",
        "        return 2\n",
        "    if colValue == 'A medium amount - 3':\n",
        "        return 3\n",
        "    if colValue == 'I\\'ve been doing this a lot - 4':\n",
        "        return 4"
      ],
      "id": "0aa3eccb"
    },
    {
      "cell_type": "code",
      "execution_count": null,
      "metadata": {
        "id": "5b59f5b0"
      },
      "outputs": [],
      "source": [
        "def get_active_coping():\n",
        "    x = (dataset['part_d_q2'].apply(part_d_values)\n",
        "         + dataset['part_d_q7'].apply(part_d_values))/2 \n",
        "    return x"
      ],
      "id": "5b59f5b0"
    },
    {
      "cell_type": "code",
      "execution_count": null,
      "metadata": {
        "id": "a797e7f6"
      },
      "outputs": [],
      "source": [
        "def get_use_of_informational_support():\n",
        "    x = (dataset['part_d_q10'].apply(part_d_values)\n",
        "         + dataset['part_d_q23'].apply(part_d_values))/2\n",
        "    return x"
      ],
      "id": "a797e7f6"
    },
    {
      "cell_type": "code",
      "execution_count": null,
      "metadata": {
        "id": "8f39149f"
      },
      "outputs": [],
      "source": [
        "def get_positive_reframing():\n",
        "    x = (dataset['part_d_q12'].apply(part_d_values)\n",
        "         + dataset['part_d_q17'].apply(part_d_values))/2\n",
        "    return x"
      ],
      "id": "8f39149f"
    },
    {
      "cell_type": "code",
      "execution_count": null,
      "metadata": {
        "id": "da803eb5"
      },
      "outputs": [],
      "source": [
        "def get_planing():\n",
        "    x = (dataset['part_d_q14'].apply(part_d_values)\n",
        "         + dataset['part_d_q25'].apply(part_d_values))/2\n",
        "    return x"
      ],
      "id": "da803eb5"
    },
    {
      "cell_type": "code",
      "execution_count": null,
      "metadata": {
        "id": "2a2a3331"
      },
      "outputs": [],
      "source": [
        "def get_emotional_support():\n",
        "    x = (dataset['part_d_q5'].apply(part_d_values)\n",
        "         + dataset['part_d_q15'].apply(part_d_values))/2\n",
        "    return x"
      ],
      "id": "2a2a3331"
    },
    {
      "cell_type": "code",
      "execution_count": null,
      "metadata": {
        "id": "fb327656"
      },
      "outputs": [],
      "source": [
        "def get_venting():\n",
        "    x = (dataset['part_d_q9'].apply(part_d_values)\n",
        "         + dataset['part_d_q21'].apply(part_d_values))/2\n",
        "    return x"
      ],
      "id": "fb327656"
    },
    {
      "cell_type": "code",
      "execution_count": null,
      "metadata": {
        "id": "a004362d"
      },
      "outputs": [],
      "source": [
        "def get_humor():\n",
        "    x = (dataset['part_d_q18'].apply(part_d_values)\n",
        "         + dataset['part_d_q28'].apply(part_d_values))/2\n",
        "    return x"
      ],
      "id": "a004362d"
    },
    {
      "cell_type": "code",
      "execution_count": null,
      "metadata": {
        "id": "c1f0c5d0"
      },
      "outputs": [],
      "source": [
        "def get_acceptance():\n",
        "    x = (dataset['part_d_q20'].apply(part_d_values)\n",
        "         + dataset['part_d_q24'].apply(part_d_values))/2\n",
        "    return x"
      ],
      "id": "c1f0c5d0"
    },
    {
      "cell_type": "code",
      "execution_count": null,
      "metadata": {
        "id": "702627cb"
      },
      "outputs": [],
      "source": [
        "def get_religion():\n",
        "    x = (dataset['part_d_q22'].apply(part_d_values)\n",
        "         + dataset['part_d_q27'].apply(part_d_values))/2\n",
        "    return x"
      ],
      "id": "702627cb"
    },
    {
      "cell_type": "code",
      "execution_count": null,
      "metadata": {
        "id": "c8b52604"
      },
      "outputs": [],
      "source": [
        "def get_self_blame():\n",
        "    x = (dataset['part_d_q13'].apply(part_d_values)\n",
        "         + dataset['part_d_q26'].apply(part_d_values))/2\n",
        "    return x"
      ],
      "id": "c8b52604"
    },
    {
      "cell_type": "code",
      "execution_count": null,
      "metadata": {
        "id": "5c653efc"
      },
      "outputs": [],
      "source": [
        "def get_self_distraction():\n",
        "    x = (dataset['part_d_q1'].apply(part_d_values)\n",
        "         + dataset['part_d_q19'].apply(part_d_values))/2\n",
        "    return x"
      ],
      "id": "5c653efc"
    },
    {
      "cell_type": "code",
      "execution_count": null,
      "metadata": {
        "id": "6c8caac2"
      },
      "outputs": [],
      "source": [
        "def get_denial():\n",
        "    x = (dataset['part_d_q3'].apply(part_d_values)\n",
        "         + dataset['part_d_q8'].apply(part_d_values))/2\n",
        "    return x"
      ],
      "id": "6c8caac2"
    },
    {
      "cell_type": "code",
      "execution_count": null,
      "metadata": {
        "id": "8d5ce53c"
      },
      "outputs": [],
      "source": [
        "def get_substance_use():\n",
        "    x = (dataset['part_d_q4'].apply(part_d_values)\n",
        "         + dataset['part_d_q11'].apply(part_d_values))/2\n",
        "    return x"
      ],
      "id": "8d5ce53c"
    },
    {
      "cell_type": "code",
      "execution_count": null,
      "metadata": {
        "id": "60796b9a"
      },
      "outputs": [],
      "source": [
        "def get_behavioral_disengagement():\n",
        "    x = (dataset['part_d_q6'].apply(part_d_values)\n",
        "         + dataset['part_d_q16'].apply(part_d_values))/2\n",
        "    return x"
      ],
      "id": "60796b9a"
    },
    {
      "cell_type": "code",
      "execution_count": null,
      "metadata": {
        "id": "e1547577"
      },
      "outputs": [],
      "source": [
        "def get_problem_focused():\n",
        "    x = (dataset['part_d_q2'].apply(part_d_values)\n",
        "         + dataset['part_d_q7'].apply(part_d_values)\n",
        "         + dataset['part_d_q10'].apply(part_d_values)\n",
        "         + dataset['part_d_q12'].apply(part_d_values)\n",
        "         + dataset['part_d_q14'].apply(part_d_values)\n",
        "         + dataset['part_d_q17'].apply(part_d_values)\n",
        "         + dataset['part_d_q23'].apply(part_d_values)\n",
        "         + dataset['part_d_q25'].apply(part_d_values)) / 8\n",
        "    return x"
      ],
      "id": "e1547577"
    },
    {
      "cell_type": "code",
      "execution_count": null,
      "metadata": {
        "id": "5ec94aa4"
      },
      "outputs": [],
      "source": [
        "def get_emotion_focused():\n",
        "    x = (dataset['part_d_q5'].apply(part_d_values)\n",
        "         + dataset['part_d_q9'].apply(part_d_values)\n",
        "         + dataset['part_d_q13'].apply(part_d_values)\n",
        "         + dataset['part_d_q15'].apply(part_d_values)\n",
        "         + dataset['part_d_q18'].apply(part_d_values)\n",
        "         + dataset['part_d_q20'].apply(part_d_values)\n",
        "         + dataset['part_d_q21'].apply(part_d_values)\n",
        "         + dataset['part_d_q22'].apply(part_d_values)\n",
        "         + dataset['part_d_q24'].apply(part_d_values)\n",
        "         + dataset['part_d_q26'].apply(part_d_values)\n",
        "         + dataset['part_d_q27'].apply(part_d_values)\n",
        "         + dataset['part_d_q28'].apply(part_d_values)) / 12\n",
        "    return x"
      ],
      "id": "5ec94aa4"
    },
    {
      "cell_type": "code",
      "execution_count": null,
      "metadata": {
        "id": "1c809119"
      },
      "outputs": [],
      "source": [
        "def get_avoidant():\n",
        "    x = (dataset['part_d_q1'].apply(part_d_values)\n",
        "         + dataset['part_d_q3'].apply(part_d_values)\n",
        "         + dataset['part_d_q4'].apply(part_d_values)\n",
        "         + dataset['part_d_q6'].apply(part_d_values)\n",
        "         + dataset['part_d_q8'].apply(part_d_values)\n",
        "         + dataset['part_d_q11'].apply(part_d_values)\n",
        "         + dataset['part_d_q16'].apply(part_d_values)\n",
        "         + dataset['part_d_q19'].apply(part_d_values)) / 8\n",
        "    return x"
      ],
      "id": "1c809119"
    },
    {
      "cell_type": "code",
      "execution_count": null,
      "metadata": {
        "id": "3057dfdd"
      },
      "outputs": [],
      "source": [
        "dataset['part_d_problem_focued_avarage'] = get_problem_focused()\n",
        "dataset['part_d_emotion_focused_avarage'] = get_emotion_focused()\n",
        "dataset['part_d_avoidant_avarage'] = get_avoidant()\n",
        "dataset['part_d_active_coping_avarage'] = get_active_coping()\n",
        "dataset['part_d_use_of_informational_support_avarage'] = get_use_of_informational_support()\n",
        "dataset['part_d_positive_reframing_avarage'] = get_positive_reframing()\n",
        "dataset['part_d_planing_avarage'] = get_planing()\n",
        "dataset['part_d_emotional_support_avarage'] = get_emotional_support()\n",
        "dataset['part_d_venting_avarage'] = get_venting()\n",
        "dataset['part_d_humor_avarage'] = get_humor()\n",
        "dataset['part_d_acceptance_avarage'] = get_acceptance()\n",
        "dataset['part_d_religion_avarage'] = get_religion()\n",
        "dataset['part_d_self_blame_avarage'] = get_self_blame()\n",
        "dataset['part_d_self_distraction_avarage'] = get_self_distraction()\n",
        "dataset['part_d_denial_avarage'] = get_denial()\n",
        "dataset['part_d_substance_use_avarage'] = get_substance_use()\n",
        "dataset['part_d_behavioral_disengagement_avarage'] = get_behavioral_disengagement()"
      ],
      "id": "3057dfdd"
    },
    {
      "cell_type": "markdown",
      "source": [
        "## Finalizing Data Frame"
      ],
      "metadata": {
        "id": "NbAO0bHhRQt_"
      },
      "id": "NbAO0bHhRQt_"
    },
    {
      "cell_type": "code",
      "execution_count": null,
      "metadata": {
        "id": "_Ss4SpNXeiAa"
      },
      "outputs": [],
      "source": [
        "dataset_q_droped = dataset.drop(list(dataset)[10:62], axis=1)"
      ],
      "id": "_Ss4SpNXeiAa"
    },
    {
      "cell_type": "code",
      "source": [
        "dataset_q_droped_high_stress = dataset_q_droped[dataset_q_droped['stress_level_part_b'] == 'high_perceived_stress']\n",
        "dataset_q_droped_moderate_stress = dataset_q_droped[dataset_q_droped['stress_level_part_b'] == 'moderate_stress']\n",
        "dataset_q_droped_low_stress = dataset_q_droped[dataset_q_droped['stress_level_part_b'] == 'low_stress']"
      ],
      "metadata": {
        "id": "q1ImBzbc-qoK"
      },
      "id": "q1ImBzbc-qoK",
      "execution_count": null,
      "outputs": []
    },
    {
      "cell_type": "markdown",
      "metadata": {
        "id": "qDdhwsTif7J3"
      },
      "source": [
        "# **Data Visualization**"
      ],
      "id": "qDdhwsTif7J3"
    },
    {
      "cell_type": "markdown",
      "source": [
        "### Graphs"
      ],
      "metadata": {
        "id": "7q7_aIF7X2rT"
      },
      "id": "7q7_aIF7X2rT"
    },
    {
      "cell_type": "code",
      "execution_count": null,
      "metadata": {
        "colab": {
          "base_uri": "https://localhost:8080/",
          "height": 105
        },
        "id": "ugSKUyaUWX36",
        "outputId": "076dca3b-d88a-44eb-bd02-859d62acfcfe"
      },
      "outputs": [
        {
          "output_type": "execute_result",
          "data": {
            "text/plain": [
              "<matplotlib.axes._subplots.AxesSubplot at 0x7fb774702040>"
            ]
          },
          "metadata": {},
          "execution_count": 69
        },
        {
          "output_type": "display_data",
          "data": {
            "text/plain": [
              "<Figure size 720x576 with 1 Axes>"
            ],
            "image/png": "[encoded data removed]"
          },
          "metadata": {
            "needs_background": "light"
          }
        }
      ],
      "source": [
        "plt.figure(figsize=(10, 8))\n",
        "grouped_university = dataset.groupby(by = \"university  \").size()\n",
        "grouped_university.plot.bar()"
      ],
      "id": "ugSKUyaUWX36"
    },
    {
      "cell_type": "code",
      "execution_count": null,
      "metadata": {
        "colab": {
          "base_uri": "https://localhost:8080/",
          "height": 105
        },
        "id": "aC51EM7mhYUa",
        "outputId": "9eec6ff0-d100-4781-d8f7-e426c3bff737"
      },
      "outputs": [
        {
          "output_type": "execute_result",
          "data": {
            "text/plain": [
              "<matplotlib.axes._subplots.AxesSubplot at 0x7fb76ce06940>"
            ]
          },
          "metadata": {},
          "execution_count": 70
        },
        {
          "output_type": "display_data",
          "data": {
            "text/plain": [
              "<Figure size 720x576 with 1 Axes>"
            ],
            "image/png": "[encoded data removed]"
          },
          "metadata": {
            "needs_background": "light"
          }
        }
      ],
      "source": [
        "plt.figure(figsize=(10, 8))\n",
        "grouped_batch = dataset.groupby(by = \"batch\").size()\n",
        "grouped_batch.plot.bar()"
      ],
      "id": "aC51EM7mhYUa"
    },
    {
      "cell_type": "code",
      "execution_count": null,
      "metadata": {
        "colab": {
          "base_uri": "https://localhost:8080/",
          "height": 105
        },
        "id": "KCL4UAESiZX8",
        "outputId": "5f92a1fb-fe1b-4430-c02c-ed939b60ca06"
      },
      "outputs": [
        {
          "output_type": "execute_result",
          "data": {
            "text/plain": [
              "<matplotlib.axes._subplots.AxesSubplot at 0x7fb76c942a30>"
            ]
          },
          "metadata": {},
          "execution_count": 71
        },
        {
          "output_type": "display_data",
          "data": {
            "text/plain": [
              "<Figure size 720x576 with 1 Axes>"
            ],
            "image/png": "[encoded data removed]"
          },
          "metadata": {
            "needs_background": "light"
          }
        }
      ],
      "source": [
        "plt.figure(figsize=(10, 8))\n",
        "grouped_sex = dataset.groupby(by = \"sex\").size()\n",
        "grouped_sex.plot.bar()"
      ],
      "id": "KCL4UAESiZX8"
    },
    {
      "cell_type": "code",
      "execution_count": null,
      "metadata": {
        "colab": {
          "base_uri": "https://localhost:8080/",
          "height": 105
        },
        "id": "AyqaoeM0jiRd",
        "outputId": "51916c53-9f3a-4b85-fe6d-b083b8be8bb6"
      },
      "outputs": [
        {
          "output_type": "execute_result",
          "data": {
            "text/plain": [
              "<matplotlib.axes._subplots.AxesSubplot at 0x7fb76c8a31f0>"
            ]
          },
          "metadata": {},
          "execution_count": 72
        },
        {
          "output_type": "display_data",
          "data": {
            "text/plain": [
              "<Figure size 720x576 with 1 Axes>"
            ],
            "image/png": "[encoded data removed]"
          },
          "metadata": {
            "needs_background": "light"
          }
        }
      ],
      "source": [
        "plt.figure(figsize=(10, 8))\n",
        "dataset['age'].replace([',22','23Y','19','20','21','22','23','24','25','26','27'],\n",
        "                       [22,23,19,20,21,22,23,24,25,26,27], inplace =True)\n",
        "grouped_age = dataset.groupby(by = \"age\").size()\n",
        "grouped_age.plot.bar()"
      ],
      "id": "AyqaoeM0jiRd"
    },
    {
      "cell_type": "code",
      "execution_count": null,
      "metadata": {
        "colab": {
          "base_uri": "https://localhost:8080/",
          "height": 105
        },
        "id": "YjfIIp5XlLN_",
        "outputId": "73604bb3-acda-4e3e-8c0e-cce88d403f0f"
      },
      "outputs": [
        {
          "output_type": "execute_result",
          "data": {
            "text/plain": [
              "<matplotlib.axes._subplots.AxesSubplot at 0x7fb76c80ca00>"
            ]
          },
          "metadata": {},
          "execution_count": 73
        },
        {
          "output_type": "display_data",
          "data": {
            "text/plain": [
              "<Figure size 720x576 with 1 Axes>"
            ],
            "image/png": "[encoded data removed]"
          },
          "metadata": {
            "needs_background": "light"
          }
        }
      ],
      "source": [
        "plt.figure(figsize=(10, 8))\n",
        "grouped_nationality = dataset.groupby(by = \"nationality\").size()\n",
        "grouped_nationality.plot.bar()"
      ],
      "id": "YjfIIp5XlLN_"
    },
    {
      "cell_type": "code",
      "execution_count": null,
      "metadata": {
        "colab": {
          "base_uri": "https://localhost:8080/",
          "height": 105
        },
        "id": "hNqcLIeo-9c4",
        "outputId": "606a8ed2-95ac-468d-b8bc-94bd1fc5491e"
      },
      "outputs": [
        {
          "output_type": "execute_result",
          "data": {
            "text/plain": [
              "<matplotlib.axes._subplots.AxesSubplot at 0x7fb76c7e6640>"
            ]
          },
          "metadata": {},
          "execution_count": 74
        },
        {
          "output_type": "display_data",
          "data": {
            "text/plain": [
              "<Figure size 720x576 with 1 Axes>"
            ],
            "image/png": "[encoded data removed]"
          },
          "metadata": {
            "needs_background": "light"
          }
        }
      ],
      "source": [
        "plt.figure(figsize=(10, 8))\n",
        "grouped_relationship_status = dataset.groupby(by = \"relationship_status\").size()\n",
        "grouped_relationship_status.plot.bar()"
      ],
      "id": "hNqcLIeo-9c4"
    },
    {
      "cell_type": "code",
      "execution_count": null,
      "metadata": {
        "colab": {
          "base_uri": "https://localhost:8080/",
          "height": 105
        },
        "id": "RKwEmsuuBDcY",
        "outputId": "e7c843de-ee60-44d1-a62c-ba55e93a0c43"
      },
      "outputs": [
        {
          "output_type": "execute_result",
          "data": {
            "text/plain": [
              "<matplotlib.axes._subplots.AxesSubplot at 0x7fb76c750ca0>"
            ]
          },
          "metadata": {},
          "execution_count": 75
        },
        {
          "output_type": "display_data",
          "data": {
            "text/plain": [
              "<Figure size 720x576 with 1 Axes>"
            ],
            "image/png": "[encoded data removed]"
          },
          "metadata": {
            "needs_background": "light"
          }
        }
      ],
      "source": [
        "plt.figure(figsize=(10, 8))\n",
        "grouped_religion = dataset.groupby(by = \"religion\").size()\n",
        "grouped_religion.plot.bar()"
      ],
      "id": "RKwEmsuuBDcY"
    },
    {
      "cell_type": "code",
      "execution_count": null,
      "metadata": {
        "colab": {
          "base_uri": "https://localhost:8080/",
          "height": 105
        },
        "id": "Ubb_WvpWCts0",
        "outputId": "a63c7ff4-f86a-428e-8a1f-b214cc891c70"
      },
      "outputs": [
        {
          "output_type": "execute_result",
          "data": {
            "text/plain": [
              "<matplotlib.axes._subplots.AxesSubplot at 0x7fb76c735280>"
            ]
          },
          "metadata": {},
          "execution_count": 76
        },
        {
          "output_type": "display_data",
          "data": {
            "text/plain": [
              "<Figure size 720x576 with 1 Axes>"
            ],
            "image/png": "[encoded data removed]"
          },
          "metadata": {
            "needs_background": "light"
          }
        }
      ],
      "source": [
        "plt.figure(figsize=(10, 8))\n",
        "grouped_residence = dataset.groupby(by = \"residence\").size()\n",
        "grouped_residence.plot.bar()"
      ],
      "id": "Ubb_WvpWCts0"
    },
    {
      "cell_type": "code",
      "execution_count": null,
      "metadata": {
        "colab": {
          "base_uri": "https://localhost:8080/",
          "height": 105
        },
        "id": "1UnupvtGDd-_",
        "outputId": "e98c1022-df53-46e1-c5d5-9bc7e5f8a8ce"
      },
      "outputs": [
        {
          "output_type": "execute_result",
          "data": {
            "text/plain": [
              "<matplotlib.axes._subplots.AxesSubplot at 0x7fb76c68b9a0>"
            ]
          },
          "metadata": {},
          "execution_count": 77
        },
        {
          "output_type": "display_data",
          "data": {
            "text/plain": [
              "<Figure size 720x576 with 1 Axes>"
            ],
            "image/png": "[encoded data removed]"
          },
          "metadata": {
            "needs_background": "light"
          }
        }
      ],
      "source": [
        "plt.figure(figsize=(10, 8))\n",
        "grouped_family_type = dataset.groupby(by = \"family_type\").size()\n",
        "grouped_family_type.plot.bar()"
      ],
      "id": "1UnupvtGDd-_"
    },
    {
      "cell_type": "code",
      "execution_count": null,
      "metadata": {
        "colab": {
          "base_uri": "https://localhost:8080/",
          "height": 105
        },
        "id": "uRS960ENF4V5",
        "outputId": "d3d9b1da-f2f9-4f02-8bc4-62bf2108ec5f"
      },
      "outputs": [
        {
          "output_type": "execute_result",
          "data": {
            "text/plain": [
              "<matplotlib.axes._subplots.AxesSubplot at 0x7fb76c65f940>"
            ]
          },
          "metadata": {},
          "execution_count": 78
        },
        {
          "output_type": "display_data",
          "data": {
            "text/plain": [
              "<Figure size 720x576 with 1 Axes>"
            ],
            "image/png": "[encoded data removed]"
          },
          "metadata": {
            "needs_background": "light"
          }
        }
      ],
      "source": [
        "plt.figure(figsize=(10, 8))\n",
        "grouped_study_year = dataset.groupby(by = \"study_year   \").size()\n",
        "\n",
        "\n",
        "dataset['study_year   '].replace(['First year','Second Year','Third Year','Fourth Year','Final Year'],\n",
        "                       [1,2,3,4,5], inplace =True)\n",
        "grouped_study_year = dataset.groupby(by = \"study_year   \").size()\n",
        "grouped_study_year.plot.bar()"
      ],
      "id": "uRS960ENF4V5"
    },
    {
      "cell_type": "code",
      "execution_count": null,
      "metadata": {
        "colab": {
          "base_uri": "https://localhost:8080/",
          "height": 105
        },
        "id": "hjO-lIKm3ttp",
        "outputId": "3b60ef7a-52b3-49cf-a422-2c304868292c"
      },
      "outputs": [
        {
          "output_type": "execute_result",
          "data": {
            "text/plain": [
              "<matplotlib.axes._subplots.AxesSubplot at 0x7fb76c5cdd30>"
            ]
          },
          "metadata": {},
          "execution_count": 79
        },
        {
          "output_type": "display_data",
          "data": {
            "text/plain": [
              "<Figure size 720x576 with 1 Axes>"
            ],
            "image/png": "[encoded data removed]"
          },
          "metadata": {
            "needs_background": "light"
          }
        }
      ],
      "source": [
        "plt.figure(figsize=(10, 8))\n",
        "grouped_stress_level = dataset.groupby(by = \"stress_level_part_b\").size()\n",
        "grouped_stress_level.plot.bar()"
      ],
      "id": "hjO-lIKm3ttp"
    },
    {
      "cell_type": "code",
      "execution_count": null,
      "metadata": {
        "colab": {
          "base_uri": "https://localhost:8080/"
        },
        "id": "u_9dR669_qvP",
        "outputId": "7cedc6c3-68ee-4cc3-ed80-9b793221f6fe"
      },
      "outputs": [
        {
          "output_type": "stream",
          "name": "stdout",
          "text": [
            "university  \n",
            "University of Colombo                122\n",
            "University of Kelaniya               124\n",
            "University of Peradeniya             143\n",
            "University of Ruhuna                 126\n",
            "University of Sri Jayawardanapura    147\n",
            "dtype: int64\n",
            "\n",
            "batch\n",
            "16/17    108\n",
            "17/18    183\n",
            "18/19    156\n",
            "19/20    120\n",
            "20/21     95\n",
            "dtype: int64\n",
            "\n",
            "sex\n",
            "Female    338\n",
            "Male      324\n",
            "dtype: int64\n",
            "\n",
            "age\n",
            "19      2\n",
            "20     23\n",
            "21     48\n",
            "22     85\n",
            "23    150\n",
            "24    167\n",
            "25    145\n",
            "26     35\n",
            "27      7\n",
            "dtype: int64\n",
            "\n",
            "nationality\n",
            "Bhutanese       3\n",
            "Sri Lankan    659\n",
            "dtype: int64\n",
            "\n",
            "relationship_status\n",
            "In a Romantic Relationship    271\n",
            "Married                        18\n",
            "Now single                      1\n",
            "Separated                       1\n",
            "Single                        371\n",
            "dtype: int64\n",
            "\n",
            "religion\n",
            "Athiest          21\n",
            "Buddhism        417\n",
            "Christianity     84\n",
            "Hindu            44\n",
            "Islam            96\n",
            "dtype: int64\n",
            "\n",
            "residence\n",
            "Boarding Place    239\n",
            "Home              104\n",
            "Hostel            319\n",
            "dtype: int64\n",
            "\n",
            "family_type\n",
            "Extended    106\n",
            "Nuclear     556\n",
            "dtype: int64\n",
            "\n",
            "study_year   \n",
            "1     92\n",
            "2    137\n",
            "3    177\n",
            "4    193\n",
            "5     63\n",
            "dtype: int64\n",
            "\n",
            "study_year   \n",
            "1     92\n",
            "2    137\n",
            "3    177\n",
            "4    193\n",
            "5     63\n",
            "dtype: int64\n",
            "\n",
            "stress_level_part_b\n",
            "high_perceived_stress    133\n",
            "low_stress                17\n",
            "moderate_stress          506\n",
            "dtype: int64\n"
          ]
        }
      ],
      "source": [
        "print(grouped_university)\n",
        "print()\n",
        "print(grouped_batch)\n",
        "print()\n",
        "print(grouped_sex)\n",
        "print()\n",
        "print(grouped_age)\n",
        "print()\n",
        "print(grouped_nationality)\n",
        "print()\n",
        "print(grouped_relationship_status)\n",
        "print()\n",
        "print(grouped_religion)\n",
        "print()\n",
        "print(grouped_residence)\n",
        "print()\n",
        "print(grouped_family_type)\n",
        "print()\n",
        "print(grouped_study_year)\n",
        "print()\n",
        "print(grouped_study_year)\n",
        "print()\n",
        "print(grouped_stress_level)"
      ],
      "id": "u_9dR669_qvP"
    },
    {
      "cell_type": "code",
      "source": [
        "dataset['age'].median()"
      ],
      "metadata": {
        "colab": {
          "base_uri": "https://localhost:8080/"
        },
        "id": "Eeyky-t35-vs",
        "outputId": "0cde426f-225b-4ce1-9b2e-55c6e6f5a023"
      },
      "id": "Eeyky-t35-vs",
      "execution_count": null,
      "outputs": [
        {
          "output_type": "execute_result",
          "data": {
            "text/plain": [
              "24.0"
            ]
          },
          "metadata": {},
          "execution_count": 81
        }
      ]
    },
    {
      "cell_type": "code",
      "source": [
        "df = dataset.drop(list(dataset)[0:63], axis=1)\n",
        "df1 = df.groupby(by = \"stress_level_part_b\")\n",
        "#df['part_d_substance_use_avarage'].plot.bar(stacked=True)\n",
        "#import matplotlib.pyplot as plt\n",
        "#df = dataset[['part_d_substance_use_avarage','stress_level_part_b']]\n",
        "\n",
        "#df.plot(x='stress_level_part_b', kind='bar', stacked=True)\n",
        "#plt.show()\n"
      ],
      "metadata": {
        "id": "KULXho81hgmK"
      },
      "id": "KULXho81hgmK",
      "execution_count": null,
      "outputs": []
    },
    {
      "cell_type": "code",
      "source": [
        "pip install plotnine"
      ],
      "metadata": {
        "colab": {
          "base_uri": "https://localhost:8080/"
        },
        "id": "Hh7nytHxxfoZ",
        "outputId": "a95daf92-e6aa-4df4-fb24-94ff428691a2"
      },
      "id": "Hh7nytHxxfoZ",
      "execution_count": null,
      "outputs": [
        {
          "output_type": "stream",
          "name": "stdout",
          "text": [
            "Looking in indexes: https://pypi.org/simple, https://us-python.pkg.dev/colab-wheels/public/simple/\n",
            "Requirement already satisfied: plotnine in /usr/local/lib/python3.8/dist-packages (0.8.0)\n",
            "Requirement already satisfied: mizani>=0.7.3 in /usr/local/lib/python3.8/dist-packages (from plotnine) (0.7.3)\n",
            "Requirement already satisfied: statsmodels>=0.12.1 in /usr/local/lib/python3.8/dist-packages (from plotnine) (0.12.2)\n",
            "Requirement already satisfied: descartes>=1.1.0 in /usr/local/lib/python3.8/dist-packages (from plotnine) (1.1.0)\n",
            "Requirement already satisfied: scipy>=1.5.0 in /usr/local/lib/python3.8/dist-packages (from plotnine) (1.7.3)\n",
            "Requirement already satisfied: pandas>=1.1.0 in /usr/local/lib/python3.8/dist-packages (from plotnine) (1.3.5)\n",
            "Requirement already satisfied: matplotlib>=3.1.1 in /usr/local/lib/python3.8/dist-packages (from plotnine) (3.2.2)\n",
            "Requirement already satisfied: numpy>=1.19.0 in /usr/local/lib/python3.8/dist-packages (from plotnine) (1.21.6)\n",
            "Requirement already satisfied: patsy>=0.5.1 in /usr/local/lib/python3.8/dist-packages (from plotnine) (0.5.3)\n",
            "Requirement already satisfied: cycler>=0.10 in /usr/local/lib/python3.8/dist-packages (from matplotlib>=3.1.1->plotnine) (0.11.0)\n",
            "Requirement already satisfied: pyparsing!=2.0.4,!=2.1.2,!=2.1.6,>=2.0.1 in /usr/local/lib/python3.8/dist-packages (from matplotlib>=3.1.1->plotnine) (3.0.9)\n",
            "Requirement already satisfied: kiwisolver>=1.0.1 in /usr/local/lib/python3.8/dist-packages (from matplotlib>=3.1.1->plotnine) (1.4.4)\n",
            "Requirement already satisfied: python-dateutil>=2.1 in /usr/local/lib/python3.8/dist-packages (from matplotlib>=3.1.1->plotnine) (2.8.2)\n",
            "Requirement already satisfied: palettable in /usr/local/lib/python3.8/dist-packages (from mizani>=0.7.3->plotnine) (3.3.0)\n",
            "Requirement already satisfied: pytz>=2017.3 in /usr/local/lib/python3.8/dist-packages (from pandas>=1.1.0->plotnine) (2022.7)\n",
            "Requirement already satisfied: six in /usr/local/lib/python3.8/dist-packages (from patsy>=0.5.1->plotnine) (1.15.0)\n"
          ]
        }
      ]
    },
    {
      "cell_type": "code",
      "source": [
        "from plotnine import *"
      ],
      "metadata": {
        "id": "mieKHNptxmCg"
      },
      "id": "mieKHNptxmCg",
      "execution_count": null,
      "outputs": []
    },
    {
      "cell_type": "code",
      "source": [
        "import seaborn as sns\n",
        "plt.figure(figsize=(10, 8))\n",
        "sns.histplot(binwidth=1,\n",
        "            x='sex',\n",
        "            hue='stress_level_part_b',\n",
        "            data=dataset,\n",
        "            stat=\"count\",\n",
        "            multiple=\"dodge\")"
      ],
      "metadata": {
        "colab": {
          "base_uri": "https://localhost:8080/",
          "height": 105
        },
        "id": "9eEfqXG0_eAo",
        "outputId": "0cb1ee7a-499c-45b8-8d83-c5f64fc5da53"
      },
      "id": "9eEfqXG0_eAo",
      "execution_count": null,
      "outputs": [
        {
          "output_type": "execute_result",
          "data": {
            "text/plain": [
              "<matplotlib.axes._subplots.AxesSubplot at 0x7fb762541a30>"
            ]
          },
          "metadata": {},
          "execution_count": 85
        },
        {
          "output_type": "display_data",
          "data": {
            "text/plain": [
              "<Figure size 720x576 with 1 Axes>"
            ],
            "image/png": "[encoded data removed]"
          },
          "metadata": {
            "needs_background": "light"
          }
        }
      ]
    },
    {
      "cell_type": "code",
      "source": [
        "import seaborn as sns\n",
        "\n",
        "dfhigh = dataset[dataset['stress_level_part_b'] == 'high_perceived_stress']\n",
        "\n",
        "plt.figure(figsize=(10, 8))\n",
        "sns.histplot(binwidth=1,\n",
        "            x='stress_level_part_b',\n",
        "            hue='university  ',\n",
        "            data=dfhigh,\n",
        "            stat=\"count\",\n",
        "            multiple=\"dodge\")"
      ],
      "metadata": {
        "colab": {
          "base_uri": "https://localhost:8080/",
          "height": 105
        },
        "id": "UOPaE2GjB3_t",
        "outputId": "ab5feb27-ab93-4dc6-80fa-72ca125b7b97"
      },
      "id": "UOPaE2GjB3_t",
      "execution_count": null,
      "outputs": [
        {
          "output_type": "execute_result",
          "data": {
            "text/plain": [
              "<matplotlib.axes._subplots.AxesSubplot at 0x7fb7624e22e0>"
            ]
          },
          "metadata": {},
          "execution_count": 86
        },
        {
          "output_type": "display_data",
          "data": {
            "text/plain": [
              "<Figure size 720x576 with 1 Axes>"
            ],
            "image/png": "[encoded data removed]"
          },
          "metadata": {
            "needs_background": "light"
          }
        }
      ]
    },
    {
      "cell_type": "code",
      "source": [
        "dfhigh = dataset[dataset['stress_level_part_b'] == 'moderate_stress']\n",
        "\n",
        "plt.figure(figsize=(10, 8))\n",
        "sns.histplot(binwidth=1,\n",
        "            x='stress_level_part_b',\n",
        "            hue='university  ',\n",
        "            data=dfhigh,\n",
        "            stat=\"count\",\n",
        "            multiple=\"dodge\")"
      ],
      "metadata": {
        "colab": {
          "base_uri": "https://localhost:8080/",
          "height": 105
        },
        "id": "NxXGTBKzD1ts",
        "outputId": "9393cb18-f082-4bbc-8c43-d52ba3dc94cc"
      },
      "id": "NxXGTBKzD1ts",
      "execution_count": null,
      "outputs": [
        {
          "output_type": "execute_result",
          "data": {
            "text/plain": [
              "<matplotlib.axes._subplots.AxesSubplot at 0x7fb7624a2ca0>"
            ]
          },
          "metadata": {},
          "execution_count": 87
        },
        {
          "output_type": "display_data",
          "data": {
            "text/plain": [
              "<Figure size 720x576 with 1 Axes>"
            ],
            "image/png": "[encoded data removed]"
          },
          "metadata": {
            "needs_background": "light"
          }
        }
      ]
    },
    {
      "cell_type": "markdown",
      "source": [
        "### Extra"
      ],
      "metadata": {
        "id": "_H7P0HPmXuij"
      },
      "id": "_H7P0HPmXuij"
    },
    {
      "cell_type": "code",
      "source": [
        "dataset.dim()"
      ],
      "metadata": {
        "id": "kpZ-4Vi5Xxcl"
      },
      "id": "kpZ-4Vi5Xxcl",
      "execution_count": null,
      "outputs": []
    },
    {
      "cell_type": "markdown",
      "metadata": {
        "id": "B9xusA0rBSo-"
      },
      "source": [
        "# **Select Highly Correlated Variables**"
      ],
      "id": "B9xusA0rBSo-"
    },
    {
      "cell_type": "markdown",
      "source": [
        "### Heat Map"
      ],
      "metadata": {
        "id": "EE1YrZWM1f-R"
      },
      "id": "EE1YrZWM1f-R"
    },
    {
      "cell_type": "code",
      "source": [
        "dataset_q_droped_test1 = dataset_q_droped.groupby(['stress_level_part_b'])"
      ],
      "metadata": {
        "id": "IQLEgG1nTwX5"
      },
      "id": "IQLEgG1nTwX5",
      "execution_count": null,
      "outputs": []
    },
    {
      "cell_type": "code",
      "source": [
        "plt.figure(figsize=(25,25))\n",
        "corrmat = dataset_q_droped.groupby(['stress_level_part_b']).corr()\n",
        "g=sns.heatmap(corrmat,annot=True,cmap=\"RdYlGn\")"
      ],
      "metadata": {
        "id": "qG3xbic876KV"
      },
      "id": "qG3xbic876KV",
      "execution_count": null,
      "outputs": []
    },
    {
      "cell_type": "code",
      "source": [
        "plt.figure(figsize=(20,20))\n",
        "corrmat_low_stress = dataset_q_droped_low_stress.corr()\n",
        "top_corr_features = corrmat.index\n",
        "g=sns.heatmap(corrmat_low_stress,annot=True,cmap=\"RdYlGn\")"
      ],
      "metadata": {
        "id": "BhZSh0pe7Sad"
      },
      "id": "BhZSh0pe7Sad",
      "execution_count": null,
      "outputs": []
    },
    {
      "cell_type": "code",
      "source": [
        "plt.figure(figsize=(20,20))\n",
        "corrmat_moderate_stress = dataset_q_droped_moderate_stress.corr()\n",
        "g=sns.heatmap(corrmat_moderate_stress,annot=True,cmap=\"RdYlGn\")"
      ],
      "metadata": {
        "id": "GCJdnxQuPO0c"
      },
      "id": "GCJdnxQuPO0c",
      "execution_count": null,
      "outputs": []
    },
    {
      "cell_type": "code",
      "source": [
        "plt.figure(figsize=(20,20))\n",
        "corrmat_high_stress = dataset_q_droped_high_stress.corr()\n",
        "g=sns.heatmap(corrmat_high_stress,annot=True,cmap=\"RdYlGn\")"
      ],
      "metadata": {
        "id": "cLKKrGlrPVBn"
      },
      "id": "cLKKrGlrPVBn",
      "execution_count": null,
      "outputs": []
    },
    {
      "cell_type": "markdown",
      "source": [
        "### Calculate significance levels"
      ],
      "metadata": {
        "id": "4hdXoXORUOnu"
      },
      "id": "4hdXoXORUOnu"
    },
    {
      "cell_type": "code",
      "source": [
        "c = [\"part_c_academic_score_avarage\",\n",
        "    \"part_c_psychological_score_avarage\",\n",
        "    \"part_c_social_score_avarage\",\n",
        "    \"part_d_problem_focued_avarage\",\n",
        "    \"part_d_emotion_focused_avarage\",\n",
        "    \"part_d_avoidant_avarage\",\n",
        "    \"part_d_active_coping_avarage\",\n",
        "    \"part_d_use_of_informational_support_avarage\",\n",
        "    \"part_d_positive_reframing_avarage\",\n",
        "    \"part_d_planing_avarage\",\n",
        "    \"part_d_emotional_support_avarage\",\n",
        "    \"part_d_venting_avarage\",\n",
        "    \"part_d_humor_avarage\",\n",
        "    \"part_d_acceptance_avarage\",\n",
        "    \"part_d_religion_avarage\",\n",
        "    \"part_d_self_blame_avarage\",\n",
        "    \"part_d_self_distraction_avarage\",\n",
        "    \"part_d_denial_avarage\",\n",
        "    \"part_d_substance_use_avarage\",\n",
        "    \"part_d_behavioral_disengagement_avarage\"]"
      ],
      "metadata": {
        "id": "HZZmFk02UqKn"
      },
      "id": "HZZmFk02UqKn",
      "execution_count": null,
      "outputs": []
    },
    {
      "cell_type": "code",
      "source": [
        "x = dataset_q_droped.groupby(\"stress_level_part_b\")[c].mean()\n",
        "y = dataset_q_droped.groupby(\"stress_level_part_b\")[c].std()"
      ],
      "metadata": {
        "id": "d36tGeR7UIG8"
      },
      "id": "d36tGeR7UIG8",
      "execution_count": null,
      "outputs": []
    },
    {
      "cell_type": "code",
      "source": [
        "low_margine = x - 0.076*y\n",
        "high_margine = x + 0.076*y"
      ],
      "metadata": {
        "id": "nblUB2F9UJ76"
      },
      "id": "nblUB2F9UJ76",
      "execution_count": null,
      "outputs": []
    },
    {
      "cell_type": "code",
      "source": [
        "low_margine"
      ],
      "metadata": {
        "id": "0SxeBMptUMCV"
      },
      "id": "0SxeBMptUMCV",
      "execution_count": null,
      "outputs": []
    },
    {
      "cell_type": "code",
      "source": [
        "high_margine"
      ],
      "metadata": {
        "id": "Xrxd_ox_7oE3"
      },
      "id": "Xrxd_ox_7oE3",
      "execution_count": null,
      "outputs": []
    },
    {
      "cell_type": "markdown",
      "metadata": {
        "id": "diWF8UAZ9JJw"
      },
      "source": [
        "# **Unwanted Codes**"
      ],
      "id": "diWF8UAZ9JJw"
    },
    {
      "cell_type": "markdown",
      "source": [
        "### Install ibrary"
      ],
      "metadata": {
        "id": "wxGdHgFSXW3C"
      },
      "id": "wxGdHgFSXW3C"
    },
    {
      "cell_type": "code",
      "source": [
        "pip install -U scikit-learn"
      ],
      "metadata": {
        "id": "M8hThm6AXahu"
      },
      "id": "M8hThm6AXahu",
      "execution_count": null,
      "outputs": []
    },
    {
      "cell_type": "code",
      "source": [
        "pip install featurewiz"
      ],
      "metadata": {
        "id": "r3K3C_dcXc_S"
      },
      "id": "r3K3C_dcXc_S",
      "execution_count": null,
      "outputs": []
    },
    {
      "cell_type": "code",
      "source": [
        "pip install dython"
      ],
      "metadata": {
        "id": "JB6Y2U4OXe_9"
      },
      "id": "JB6Y2U4OXe_9",
      "execution_count": null,
      "outputs": []
    },
    {
      "cell_type": "code",
      "source": [
        "from dython.nominal import associations\n",
        "from featurewiz import featurewiz"
      ],
      "metadata": {
        "id": "3ymXnV_MXhS2"
      },
      "id": "3ymXnV_MXhS2",
      "execution_count": null,
      "outputs": []
    },
    {
      "cell_type": "markdown",
      "source": [
        "### Using featurewiz"
      ],
      "metadata": {
        "id": "l_bopcc_QbtG"
      },
      "id": "l_bopcc_QbtG"
    },
    {
      "cell_type": "code",
      "execution_count": null,
      "metadata": {
        "id": "IhtEJlyiKVG1"
      },
      "outputs": [],
      "source": [
        "target = 'stress_level_part_b'\n",
        "part_b_features, part_b_selected_df_1 = featurewiz(dataset_q_droped, target, corr_limit=0.7, verbose=2, sep=\",\",\n",
        "header=0,test_data=\"\", feature_engg=\"\", category_encoders=\"\")"
      ],
      "id": "IhtEJlyiKVG1"
    },
    {
      "cell_type": "code",
      "execution_count": null,
      "metadata": {
        "id": "3qKPk-4B3BOD"
      },
      "outputs": [],
      "source": [
        "target = 'stress_level_part_b'\n",
        "part_b_features_high_stress, part_b_selected_df_1 = featurewiz(dataset_q_droped_high_stress, target, corr_limit=0.7, verbose=2, sep=\",\",\n",
        "header=0,test_data=\"\", feature_engg=\"\", category_encoders=\"\")"
      ],
      "id": "3qKPk-4B3BOD"
    },
    {
      "cell_type": "code",
      "execution_count": null,
      "metadata": {
        "id": "6Gu57DrQ6zbi"
      },
      "outputs": [],
      "source": [
        "target = 'stress_level_part_b'\n",
        "part_b_features_moderate_stress, part_b_selected_df_1 = featurewiz(dataset_q_droped_moderate_stress, target, corr_limit=0.7, verbose=2, sep=\",\",\n",
        "header=0,test_data=\"\", feature_engg=\"\", category_encoders=\"\")"
      ],
      "id": "6Gu57DrQ6zbi"
    },
    {
      "cell_type": "code",
      "execution_count": null,
      "metadata": {
        "id": "DpAjVxm17hfr"
      },
      "outputs": [],
      "source": [
        "target = 'stress_level_part_b'\n",
        "part_b_features_low_stress, part_b_selected_df_1 = featurewiz(dataset_q_droped_low_stress, target, corr_limit=0.7, verbose=2, sep=\",\",\n",
        "header=0,test_data=\"\", feature_engg=\"\", category_encoders=\"\")"
      ],
      "id": "DpAjVxm17hfr"
    },
    {
      "cell_type": "markdown",
      "source": [
        "### Using dython library"
      ],
      "metadata": {
        "id": "IIsoCpFeQp06"
      },
      "id": "IIsoCpFeQp06"
    },
    {
      "cell_type": "code",
      "execution_count": null,
      "metadata": {
        "id": "iRmTfHrpCw9h"
      },
      "outputs": [],
      "source": [
        "#associations(dataset_q_droped, nom_nom_assoc='theil', figsize=(25, 25))"
      ],
      "id": "iRmTfHrpCw9h"
    },
    {
      "cell_type": "markdown",
      "source": [
        "### other"
      ],
      "metadata": {
        "id": "KXG4aBQmVrhL"
      },
      "id": "KXG4aBQmVrhL"
    },
    {
      "cell_type": "code",
      "execution_count": null,
      "metadata": {
        "id": "4OSVSeLoKU1W"
      },
      "outputs": [],
      "source": [
        "target = 'onehotencoder__x8_moderate_stress'\n",
        "part_b_features_moderate_stress, part_b_selected_df_2 = featurewiz(transformed_df, target, corr_limit=0.7, verbose=2, sep=\",\",\n",
        "header=0,test_data=\"\", feature_engg=\"\", category_encoders=\"\")"
      ],
      "id": "4OSVSeLoKU1W"
    },
    {
      "cell_type": "code",
      "execution_count": null,
      "metadata": {
        "id": "612dOXvheHDL"
      },
      "outputs": [],
      "source": [
        "target = 'onehotencoder__x8_high_perceived_stress'\n",
        "part_b_features_high_stress, part_b_selected_df_3 = featurewiz(transformed_df, target, corr_limit=0.7, verbose=2, sep=\",\",\n",
        "header=0,test_data=\"\", feature_engg=\"\", category_encoders=\"\")"
      ],
      "id": "612dOXvheHDL"
    },
    {
      "cell_type": "code",
      "execution_count": null,
      "metadata": {
        "id": "7ZoR0jL8iftE"
      },
      "outputs": [],
      "source": [
        "target = 'part_c_academic_score_avarage'\n",
        "part_c_academic_features, part_c_academic_selected_df = featurewiz(dataset, target, corr_limit=0.7, verbose=2, sep=\",\",\n",
        "header=0,test_data=\"\", feature_engg=\"\", category_encoders=\"\")"
      ],
      "id": "7ZoR0jL8iftE"
    },
    {
      "cell_type": "code",
      "execution_count": null,
      "metadata": {
        "id": "uRm3HB_ByOkR"
      },
      "outputs": [],
      "source": [
        "target = 'part_c_psychological_score_avarage'\n",
        "part_c_psychological_score_avarage_features, part_c_psychological_score_avarage_df = featurewiz(dataset, target, corr_limit=0.7, verbose=2, sep=\",\",\n",
        "header=0,test_data=\"\", feature_engg=\"\", category_encoders=\"\")"
      ],
      "id": "uRm3HB_ByOkR"
    },
    {
      "cell_type": "code",
      "execution_count": null,
      "metadata": {
        "id": "lR-9vfYVlU8s"
      },
      "outputs": [],
      "source": [
        "target = 'part_c_social_score_avarage' \n",
        "part_c_social_score_avarage_features, part_c_social_score_avarage_df = featurewiz(dataset, target, corr_limit=0.7, verbose=2, sep=\",\",\n",
        "header=0,test_data=\"\", feature_engg=\"\", category_encoders=\"\")"
      ],
      "id": "lR-9vfYVlU8s"
    },
    {
      "cell_type": "code",
      "execution_count": null,
      "metadata": {
        "id": "v1C8y-rPk2IB"
      },
      "outputs": [],
      "source": [
        "target = 'part_d_problem_focued_avarage' \n",
        "part_d_problem_focued_avarage_features, part_d_problem_focued_avarage_df = featurewiz(dataset, target, corr_limit=0.7, verbose=2, sep=\",\",\n",
        "header=0,test_data=\"\", feature_engg=\"\", category_encoders=\"\")"
      ],
      "id": "v1C8y-rPk2IB"
    },
    {
      "cell_type": "code",
      "execution_count": null,
      "metadata": {
        "id": "-1BolTxFk2FX"
      },
      "outputs": [],
      "source": [
        "target = 'part_d_emotion_focused_avarage' \n",
        "part_d_emotion_focused_avarage_features, part_d_emotion_focused_avarage_df = featurewiz(dataset, target, corr_limit=0.7, verbose=2, sep=\",\",\n",
        "header=0,test_data=\"\", feature_engg=\"\", category_encoders=\"\")"
      ],
      "id": "-1BolTxFk2FX"
    },
    {
      "cell_type": "code",
      "execution_count": null,
      "metadata": {
        "id": "QJ2a82Kfk2Cj"
      },
      "outputs": [],
      "source": [
        "target = 'part_d_avoidant_avarage' \n",
        "part_d_avoidant_avarage_features, part_d_avoidant_avarage_df = featurewiz(dataset, target, corr_limit=0.7, verbose=2, sep=\",\",\n",
        "header=0,test_data=\"\", feature_engg=\"\", category_encoders=\"\")"
      ],
      "id": "QJ2a82Kfk2Cj"
    },
    {
      "cell_type": "code",
      "execution_count": null,
      "metadata": {
        "id": "aQhjZ76ik1_m"
      },
      "outputs": [],
      "source": [
        "target = 'part_d_active_coping_avarage' \n",
        "part_d_active_coping_avarage_features, part_d_active_coping_avarage_df = featurewiz(dataset, target, corr_limit=0.7, verbose=2, sep=\",\",\n",
        "header=0,test_data=\"\", feature_engg=\"\", category_encoders=\"\")"
      ],
      "id": "aQhjZ76ik1_m"
    },
    {
      "cell_type": "code",
      "execution_count": null,
      "metadata": {
        "id": "2PU3n9Kuk131"
      },
      "outputs": [],
      "source": [
        "target = 'part_d_use_of_informational_support_avarage' \n",
        "part_d_use_of_informational_support_avarage_features, part_d_use_of_informational_support_avarage_df = featurewiz(dataset, target, corr_limit=0.7, verbose=2, sep=\",\",\n",
        "header=0,test_data=\"\", feature_engg=\"\", category_encoders=\"\")"
      ],
      "id": "2PU3n9Kuk131"
    },
    {
      "cell_type": "code",
      "execution_count": null,
      "metadata": {
        "id": "Q1nU8Q1pk1lG"
      },
      "outputs": [],
      "source": [
        "target = 'part_d_positive_reframing_avarage' \n",
        "part_d_positive_reframing_avarage_features, part_d_positive_reframing_avarage_df = featurewiz(dataset, target, corr_limit=0.7, verbose=2, sep=\",\",\n",
        "header=0,test_data=\"\", feature_engg=\"\", category_encoders=\"\")"
      ],
      "id": "Q1nU8Q1pk1lG"
    },
    {
      "cell_type": "code",
      "execution_count": null,
      "metadata": {
        "id": "tUjb1928sIla"
      },
      "outputs": [],
      "source": [
        "target = 'part_d_planing_avarage' \n",
        "part_d_planing_avarage_features, part_d_planing_avarage_df = featurewiz(dataset, target, corr_limit=0.7, verbose=2, sep=\",\",\n",
        "header=0,test_data=\"\", feature_engg=\"\", category_encoders=\"\")"
      ],
      "id": "tUjb1928sIla"
    },
    {
      "cell_type": "code",
      "execution_count": null,
      "metadata": {
        "id": "yZyomJh1sI4s"
      },
      "outputs": [],
      "source": [
        "target = 'part_d_emotional_support_avarage' \n",
        "part_d_emotional_support_avarage_features, part_d_emotional_support_avarage_df = featurewiz(dataset, target, corr_limit=0.7, verbose=2, sep=\",\",\n",
        "header=0,test_data=\"\", feature_engg=\"\", category_encoders=\"\")"
      ],
      "id": "yZyomJh1sI4s"
    },
    {
      "cell_type": "code",
      "execution_count": null,
      "metadata": {
        "id": "SflFE2kOsJro"
      },
      "outputs": [],
      "source": [
        "target = 'part_d_venting_avarage' \n",
        "part_d_venting_avarage_features, part_d_venting_avarage_df = featurewiz(dataset, target, corr_limit=0.7, verbose=2, sep=\",\",\n",
        "header=0,test_data=\"\", feature_engg=\"\", category_encoders=\"\")"
      ],
      "id": "SflFE2kOsJro"
    },
    {
      "cell_type": "code",
      "execution_count": null,
      "metadata": {
        "id": "69JX94_TsJ6c"
      },
      "outputs": [],
      "source": [
        "target = 'part_d_humor_avarage' \n",
        "part_d_humor_avarage_features, part_d_humor_avarage_df = featurewiz(dataset, target, corr_limit=0.7, verbose=2, sep=\",\",\n",
        "header=0,test_data=\"\", feature_engg=\"\", category_encoders=\"\")"
      ],
      "id": "69JX94_TsJ6c"
    },
    {
      "cell_type": "code",
      "execution_count": null,
      "metadata": {
        "id": "aye75G17sPCI"
      },
      "outputs": [],
      "source": [
        "target = 'part_d_acceptance_avarage' \n",
        "part_d_acceptance_avarage_features, part_d_acceptance_avarage_df = featurewiz(dataset, target, corr_limit=0.7, verbose=2, sep=\",\",\n",
        "header=0,test_data=\"\", feature_engg=\"\", category_encoders=\"\")"
      ],
      "id": "aye75G17sPCI"
    },
    {
      "cell_type": "code",
      "execution_count": null,
      "metadata": {
        "id": "glkvK9x0sPU3"
      },
      "outputs": [],
      "source": [
        "target = 'part_d_religion_avarage' \n",
        "part_d_religion_avarage_features, part_d_religion_avarage_df = featurewiz(dataset, target, corr_limit=0.7, verbose=2, sep=\",\",\n",
        "header=0,test_data=\"\", feature_engg=\"\", category_encoders=\"\")"
      ],
      "id": "glkvK9x0sPU3"
    },
    {
      "cell_type": "code",
      "execution_count": null,
      "metadata": {
        "id": "TjmMeh2BsPj9"
      },
      "outputs": [],
      "source": [
        "target = 'part_d_self_blame_avarage' \n",
        "part_d_self_blame_avarage_features, part_d_self_blame_avarage_df = featurewiz(dataset, target, corr_limit=0.7, verbose=2, sep=\",\",\n",
        "header=0,test_data=\"\", feature_engg=\"\", category_encoders=\"\")"
      ],
      "id": "TjmMeh2BsPj9"
    },
    {
      "cell_type": "code",
      "execution_count": null,
      "metadata": {
        "id": "P0hV8n5VsPzh"
      },
      "outputs": [],
      "source": [
        "target = 'part_d_self_distraction_avarage' \n",
        "part_d_self_distraction_avarage_features, part_d_self_distraction_avarage_df = featurewiz(dataset, target, corr_limit=0.7, verbose=2, sep=\",\",\n",
        "header=0,test_data=\"\", feature_engg=\"\", category_encoders=\"\")"
      ],
      "id": "P0hV8n5VsPzh"
    },
    {
      "cell_type": "code",
      "execution_count": null,
      "metadata": {
        "id": "oTBoTo4MuTsL"
      },
      "outputs": [],
      "source": [
        "target = 'part_d_denial_avarage' \n",
        "part_d_denial_avarage_features, part_d_denial_avarage_df = featurewiz(dataset, target, corr_limit=0.7, verbose=2, sep=\",\",\n",
        "header=0,test_data=\"\", feature_engg=\"\", category_encoders=\"\")"
      ],
      "id": "oTBoTo4MuTsL"
    },
    {
      "cell_type": "code",
      "execution_count": null,
      "metadata": {
        "id": "-26jQX71uT3n"
      },
      "outputs": [],
      "source": [
        "target = 'part_d_substance_use_avarage' \n",
        "part_d_substance_use_avarage_features, part_d_substance_use_avarage_df = featurewiz(dataset, target, corr_limit=0.7, verbose=2, sep=\",\",\n",
        "header=0,test_data=\"\", feature_engg=\"\", category_encoders=\"\")"
      ],
      "id": "-26jQX71uT3n"
    },
    {
      "cell_type": "code",
      "execution_count": null,
      "metadata": {
        "id": "ScYWfaRBuUDF"
      },
      "outputs": [],
      "source": [
        "target = 'part_d_behavioral_disengagement_avarage' \n",
        "part_d_behavioral_disengagement_avarage_features, part_d_behavioral_disengagement_avarage_df = featurewiz(dataset, target, corr_limit=0.7, verbose=2, sep=\",\",\n",
        "header=0,test_data=\"\", feature_engg=\"\", category_encoders=\"\")"
      ],
      "id": "ScYWfaRBuUDF"
    },
    {
      "cell_type": "code",
      "execution_count": null,
      "metadata": {
        "id": "3Sbq60LMujyi"
      },
      "outputs": [],
      "source": [
        "print('part b features - ' + str(part_b_features))\n",
        "\n",
        "print('part c academic_features - ' + str(part_c_academic_features))\n",
        "print('part c psychological_score_avarage_features - ' + str(part_c_psychological_score_avarage_features))\n",
        "print('part c social_score_avarage_features - ' + str(part_c_social_score_avarage_features))\n",
        "\n",
        "print('part d problem focued avarage_features - ' + str(part_d_problem_focued_avarage_features))\n",
        "print('part d emotion focused avarage_features - ' + str(part_d_emotion_focused_avarage_features))\n",
        "print('part d avoidant avarage features - ' + str(part_d_avoidant_avarage_features))\n",
        "print('part d active coping avarage features - ' + str(part_d_active_coping_avarage_features))\n",
        "print('part d use of informational support avarage features - ' + str(part_d_use_of_informational_support_avarage_features))\n",
        "print('part d positive reframing avarage features - ' + str(part_d_positive_reframing_avarage_features))\n",
        "print('part d planing avarage features - ' + str(part_d_planing_avarage_features))\n",
        "print('part d emotional support avarage features - ' + str(part_d_emotional_support_avarage_features))\n",
        "print('part d venting avarage features - ' + str(part_d_venting_avarage_features))\n",
        "print('part d humor avarage features - ' + str(part_d_humor_avarage_features))\n",
        "print('part d acceptance avarage features - ' + str(part_d_acceptance_avarage_features))\n",
        "print('part d religion avarage features - ' + str(part_d_religion_avarage_features))\n",
        "print('part d self blame avarage features - ' + str(part_d_self_blame_avarage_features))\n",
        "print('part d self distraction avarage features - ' + str(part_d_self_distraction_avarage_features))\n",
        "print('part d denial avarage features - ' + str(part_d_denial_avarage_features))\n",
        "print('part d substance use avarage features - ' + str(part_d_substance_use_avarage_features))\n",
        "print('part d behavioral disengagement avarage features - ' + str(part_d_behavioral_disengagement_avarage_features))"
      ],
      "id": "3Sbq60LMujyi"
    },
    {
      "cell_type": "code",
      "execution_count": null,
      "metadata": {
        "id": "X92TTHkG99TW"
      },
      "outputs": [],
      "source": [
        "from sklearn.preprocessing import OneHotEncoder\n",
        "from sklearn.compose import make_column_transformer\n",
        "\n",
        "transformer = make_column_transformer(\n",
        "    (OneHotEncoder(), ['university  ','batch' ,'sex', 'nationality', 'relationship_status', 'religion', 'residence', 'family_type', 'stress_level_part_b']),\n",
        "    remainder='passthrough')\n",
        "\n",
        "transformed = transformer.fit_transform(dataset)\n",
        "\n",
        "transformed_df = pd.DataFrame(transformed, columns=transformer.get_feature_names())\n",
        "print(transformed_df.head())"
      ],
      "id": "X92TTHkG99TW"
    },
    {
      "cell_type": "code",
      "execution_count": null,
      "metadata": {
        "id": "Ude29mXfuDG9"
      },
      "outputs": [],
      "source": [
        "from sklearn.preprocessing import OneHotEncoder\n",
        "encoder = OneHotEncoder(handle_unknown='ignore')\n",
        "encoder_df = pd.DataFrame(encoder.fit_transform(dataset[['stress_level_part_b']]).toarray())\n",
        "final_df = dataset.join(encoder_df)\n",
        "final_df.head(10)"
      ],
      "id": "Ude29mXfuDG9"
    }
  ],
  "metadata": {
    "colab": {
      "collapsed_sections": [
        "tOOYvXlaWgzH",
        "nctZoBRx9jnC",
        "1YBnRodv9yCw",
        "SUp4Dmvo99LW",
        "sbK6ardc-sf0",
        "8XUXj0HJ-WzG",
        "y40di578-jS2",
        "NbAO0bHhRQt_",
        "qDdhwsTif7J3",
        "7q7_aIF7X2rT",
        "_H7P0HPmXuij",
        "B9xusA0rBSo-",
        "EE1YrZWM1f-R",
        "4hdXoXORUOnu",
        "diWF8UAZ9JJw",
        "wxGdHgFSXW3C",
        "l_bopcc_QbtG",
        "IIsoCpFeQp06",
        "KXG4aBQmVrhL"
      ],
      "provenance": []
    },
    "kernelspec": {
      "display_name": "Python 3 (ipykernel)",
      "language": "python",
      "name": "python3"
    },
    "language_info": {
      "codemirror_mode": {
        "name": "ipython",
        "version": 3
      },
      "file_extension": ".py",
      "mimetype": "text/x-python",
      "name": "python",
      "nbconvert_exporter": "python",
      "pygments_lexer": "ipython3",
      "version": "3.9.13"
    }
  },
  "nbformat": 4,
  "nbformat_minor": 5
}