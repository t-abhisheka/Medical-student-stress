{
 "cells": [
  {
   "cell_type": "code",
   "execution_count": 136,
   "id": "8dec74ad",
   "metadata": {},
   "outputs": [],
   "source": [
    "import pandas as pd"
   ]
  },
  {
   "cell_type": "code",
   "execution_count": 137,
   "id": "ae6f9688",
   "metadata": {},
   "outputs": [],
   "source": [
    "dataset = pd.read_csv(\"/Users/thilinaabhisheka/Reaserach_work/Medical-student-stress/Data_set.csv\")"
   ]
  },
  {
   "cell_type": "code",
   "execution_count": 124,
   "id": "730bd2ae",
   "metadata": {},
   "outputs": [
    {
     "ename": "KeyError",
     "evalue": "('part_c_academic_q2', 'part_c_academic_q3')",
     "output_type": "error",
     "traceback": [
      "\u001b[0;31m---------------------------------------------------------------------------\u001b[0m",
      "\u001b[0;31mKeyError\u001b[0m                                  Traceback (most recent call last)",
      "\u001b[0;32m~/opt/anaconda3/lib/python3.9/site-packages/pandas/core/indexes/base.py\u001b[0m in \u001b[0;36mget_loc\u001b[0;34m(self, key, method, tolerance)\u001b[0m\n\u001b[1;32m   3628\u001b[0m             \u001b[0;32mtry\u001b[0m\u001b[0;34m:\u001b[0m\u001b[0;34m\u001b[0m\u001b[0;34m\u001b[0m\u001b[0m\n\u001b[0;32m-> 3629\u001b[0;31m                 \u001b[0;32mreturn\u001b[0m \u001b[0mself\u001b[0m\u001b[0;34m.\u001b[0m\u001b[0m_engine\u001b[0m\u001b[0;34m.\u001b[0m\u001b[0mget_loc\u001b[0m\u001b[0;34m(\u001b[0m\u001b[0mcasted_key\u001b[0m\u001b[0;34m)\u001b[0m\u001b[0;34m\u001b[0m\u001b[0;34m\u001b[0m\u001b[0m\n\u001b[0m\u001b[1;32m   3630\u001b[0m             \u001b[0;32mexcept\u001b[0m \u001b[0mKeyError\u001b[0m \u001b[0;32mas\u001b[0m \u001b[0merr\u001b[0m\u001b[0;34m:\u001b[0m\u001b[0;34m\u001b[0m\u001b[0;34m\u001b[0m\u001b[0m\n",
      "\u001b[0;32m~/opt/anaconda3/lib/python3.9/site-packages/pandas/_libs/index.pyx\u001b[0m in \u001b[0;36mpandas._libs.index.IndexEngine.get_loc\u001b[0;34m()\u001b[0m\n",
      "\u001b[0;32m~/opt/anaconda3/lib/python3.9/site-packages/pandas/_libs/index.pyx\u001b[0m in \u001b[0;36mpandas._libs.index.IndexEngine.get_loc\u001b[0;34m()\u001b[0m\n",
      "\u001b[0;32mpandas/_libs/hashtable_class_helper.pxi\u001b[0m in \u001b[0;36mpandas._libs.hashtable.PyObjectHashTable.get_item\u001b[0;34m()\u001b[0m\n",
      "\u001b[0;32mpandas/_libs/hashtable_class_helper.pxi\u001b[0m in \u001b[0;36mpandas._libs.hashtable.PyObjectHashTable.get_item\u001b[0;34m()\u001b[0m\n",
      "\u001b[0;31mKeyError\u001b[0m: ('part_c_academic_q2', 'part_c_academic_q3')",
      "\nThe above exception was the direct cause of the following exception:\n",
      "\u001b[0;31mKeyError\u001b[0m                                  Traceback (most recent call last)",
      "\u001b[0;32m/var/folders/ym/_wjy7pyj6zjdlnf94rq4grjr0000gn/T/ipykernel_1155/3515158149.py\u001b[0m in \u001b[0;36m<module>\u001b[0;34m\u001b[0m\n\u001b[0;32m----> 1\u001b[0;31m dataset['part_c_academic_q2','part_c_academic_q3'] = dataset['part_c_academic_q2','part_c_academic_q3'].map({'1 - disagree entirely':1 ,\n\u001b[0m\u001b[1;32m      2\u001b[0m                                                                    \u001b[0;34m'2 - disagree for the most part'\u001b[0m \u001b[0;34m:\u001b[0m \u001b[0;36m2\u001b[0m \u001b[0;34m,\u001b[0m\u001b[0;34m\u001b[0m\u001b[0;34m\u001b[0m\u001b[0m\n\u001b[1;32m      3\u001b[0m                                                                    \u001b[0;34m'3 - undecided'\u001b[0m \u001b[0;34m:\u001b[0m \u001b[0;36m3\u001b[0m \u001b[0;34m,\u001b[0m\u001b[0;34m\u001b[0m\u001b[0;34m\u001b[0m\u001b[0m\n\u001b[1;32m      4\u001b[0m                                                                    \u001b[0;34m'4 - agree for the most part'\u001b[0m \u001b[0;34m:\u001b[0m \u001b[0;36m4\u001b[0m\u001b[0;34m,\u001b[0m\u001b[0;34m\u001b[0m\u001b[0;34m\u001b[0m\u001b[0m\n\u001b[1;32m      5\u001b[0m                                                                    \u001b[0;34m'5 - agree entirely'\u001b[0m \u001b[0;34m:\u001b[0m \u001b[0;36m5\u001b[0m\u001b[0;34m\u001b[0m\u001b[0;34m\u001b[0m\u001b[0m\n",
      "\u001b[0;32m~/opt/anaconda3/lib/python3.9/site-packages/pandas/core/frame.py\u001b[0m in \u001b[0;36m__getitem__\u001b[0;34m(self, key)\u001b[0m\n\u001b[1;32m   3503\u001b[0m             \u001b[0;32mif\u001b[0m \u001b[0mself\u001b[0m\u001b[0;34m.\u001b[0m\u001b[0mcolumns\u001b[0m\u001b[0;34m.\u001b[0m\u001b[0mnlevels\u001b[0m \u001b[0;34m>\u001b[0m \u001b[0;36m1\u001b[0m\u001b[0;34m:\u001b[0m\u001b[0;34m\u001b[0m\u001b[0;34m\u001b[0m\u001b[0m\n\u001b[1;32m   3504\u001b[0m                 \u001b[0;32mreturn\u001b[0m \u001b[0mself\u001b[0m\u001b[0;34m.\u001b[0m\u001b[0m_getitem_multilevel\u001b[0m\u001b[0;34m(\u001b[0m\u001b[0mkey\u001b[0m\u001b[0;34m)\u001b[0m\u001b[0;34m\u001b[0m\u001b[0;34m\u001b[0m\u001b[0m\n\u001b[0;32m-> 3505\u001b[0;31m             \u001b[0mindexer\u001b[0m \u001b[0;34m=\u001b[0m \u001b[0mself\u001b[0m\u001b[0;34m.\u001b[0m\u001b[0mcolumns\u001b[0m\u001b[0;34m.\u001b[0m\u001b[0mget_loc\u001b[0m\u001b[0;34m(\u001b[0m\u001b[0mkey\u001b[0m\u001b[0;34m)\u001b[0m\u001b[0;34m\u001b[0m\u001b[0;34m\u001b[0m\u001b[0m\n\u001b[0m\u001b[1;32m   3506\u001b[0m             \u001b[0;32mif\u001b[0m \u001b[0mis_integer\u001b[0m\u001b[0;34m(\u001b[0m\u001b[0mindexer\u001b[0m\u001b[0;34m)\u001b[0m\u001b[0;34m:\u001b[0m\u001b[0;34m\u001b[0m\u001b[0;34m\u001b[0m\u001b[0m\n\u001b[1;32m   3507\u001b[0m                 \u001b[0mindexer\u001b[0m \u001b[0;34m=\u001b[0m \u001b[0;34m[\u001b[0m\u001b[0mindexer\u001b[0m\u001b[0;34m]\u001b[0m\u001b[0;34m\u001b[0m\u001b[0;34m\u001b[0m\u001b[0m\n",
      "\u001b[0;32m~/opt/anaconda3/lib/python3.9/site-packages/pandas/core/indexes/base.py\u001b[0m in \u001b[0;36mget_loc\u001b[0;34m(self, key, method, tolerance)\u001b[0m\n\u001b[1;32m   3629\u001b[0m                 \u001b[0;32mreturn\u001b[0m \u001b[0mself\u001b[0m\u001b[0;34m.\u001b[0m\u001b[0m_engine\u001b[0m\u001b[0;34m.\u001b[0m\u001b[0mget_loc\u001b[0m\u001b[0;34m(\u001b[0m\u001b[0mcasted_key\u001b[0m\u001b[0;34m)\u001b[0m\u001b[0;34m\u001b[0m\u001b[0;34m\u001b[0m\u001b[0m\n\u001b[1;32m   3630\u001b[0m             \u001b[0;32mexcept\u001b[0m \u001b[0mKeyError\u001b[0m \u001b[0;32mas\u001b[0m \u001b[0merr\u001b[0m\u001b[0;34m:\u001b[0m\u001b[0;34m\u001b[0m\u001b[0;34m\u001b[0m\u001b[0m\n\u001b[0;32m-> 3631\u001b[0;31m                 \u001b[0;32mraise\u001b[0m \u001b[0mKeyError\u001b[0m\u001b[0;34m(\u001b[0m\u001b[0mkey\u001b[0m\u001b[0;34m)\u001b[0m \u001b[0;32mfrom\u001b[0m \u001b[0merr\u001b[0m\u001b[0;34m\u001b[0m\u001b[0;34m\u001b[0m\u001b[0m\n\u001b[0m\u001b[1;32m   3632\u001b[0m             \u001b[0;32mexcept\u001b[0m \u001b[0mTypeError\u001b[0m\u001b[0;34m:\u001b[0m\u001b[0;34m\u001b[0m\u001b[0;34m\u001b[0m\u001b[0m\n\u001b[1;32m   3633\u001b[0m                 \u001b[0;31m# If we have a listlike key, _check_indexing_error will raise\u001b[0m\u001b[0;34m\u001b[0m\u001b[0;34m\u001b[0m\u001b[0m\n",
      "\u001b[0;31mKeyError\u001b[0m: ('part_c_academic_q2', 'part_c_academic_q3')"
     ]
    }
   ],
   "source": [
    "dataset['part_c_academic_q2','part_c_academic_q3'] = dataset['part_c_academic_q2','part_c_academic_q3'].map({'1 - disagree entirely':1 ,\n",
    "                                                                   '2 - disagree for the most part' : 2 ,\n",
    "                                                                   '3 - undecided' : 3 ,\n",
    "                                                                   '4 - agree for the most part' : 4,\n",
    "                                                                   '5 - agree entirely' : 5\n",
    "                                                                  })\n",
    "print(dataset.part_c_academic_q)"
   ]
  },
  {
   "cell_type": "code",
   "execution_count": null,
   "id": "710d1dc5",
   "metadata": {},
   "outputs": [],
   "source": [
    "dataset['part_c_academic_q'] = dataset['part_c_academic_q'].map({'1 - disagree entirely':1 ,\n",
    "                                                                   '2 - disagree for the most part' : 2 ,\n",
    "                                                                   '3 - undecided' : 3 ,\n",
    "                                                                   '4 - agree for the most part' : 4,\n",
    "                                                                   '5 - agree entirely' : 5\n",
    "                                                                  })\n",
    "print(dataset.part_c_academic_q)"
   ]
  },
  {
   "cell_type": "code",
   "execution_count": null,
   "id": "6c59214a",
   "metadata": {},
   "outputs": [],
   "source": [
    "dataset['part_c_academic_q'] = dataset['part_c_academic_q'].map({'1 - disagree entirely':1 ,\n",
    "                                                                   '2 - disagree for the most part' : 2 ,\n",
    "                                                                   '3 - undecided' : 3 ,\n",
    "                                                                   '4 - agree for the most part' : 4,\n",
    "                                                                   '5 - agree entirely' : 5\n",
    "                                                                  })\n",
    "print(dataset.part_c_academic_q)"
   ]
  },
  {
   "cell_type": "code",
   "execution_count": null,
   "id": "27862f3b",
   "metadata": {},
   "outputs": [],
   "source": [
    "dataset['part_c_academic_q'] = dataset['part_c_academic_q'].map({'1 - disagree entirely':1 ,\n",
    "                                                                   '2 - disagree for the most part' : 2 ,\n",
    "                                                                   '3 - undecided' : 3 ,\n",
    "                                                                   '4 - agree for the most part' : 4,\n",
    "                                                                   '5 - agree entirely' : 5\n",
    "                                                                  })\n",
    "print(dataset.part_c_academic_q)"
   ]
  },
  {
   "cell_type": "code",
   "execution_count": null,
   "id": "97952862",
   "metadata": {},
   "outputs": [],
   "source": [
    "dataset['part_c_academic_q'] = dataset['part_c_academic_q'].map({'1 - disagree entirely':1 ,\n",
    "                                                                   '2 - disagree for the most part' : 2 ,\n",
    "                                                                   '3 - undecided' : 3 ,\n",
    "                                                                   '4 - agree for the most part' : 4,\n",
    "                                                                   '5 - agree entirely' : 5\n",
    "                                                                  })\n",
    "print(dataset.part_c_academic_q)"
   ]
  },
  {
   "cell_type": "code",
   "execution_count": null,
   "id": "3b59dda2",
   "metadata": {},
   "outputs": [],
   "source": [
    "dataset['part_c_academic_q'] = dataset['part_c_academic_q'].map({'1 - disagree entirely':1 ,\n",
    "                                                                   '2 - disagree for the most part' : 2 ,\n",
    "                                                                   '3 - undecided' : 3 ,\n",
    "                                                                   '4 - agree for the most part' : 4,\n",
    "                                                                   '5 - agree entirely' : 5\n",
    "                                                                  })\n",
    "print(dataset.part_c_academic_q)"
   ]
  },
  {
   "cell_type": "code",
   "execution_count": 166,
   "id": "d13d6d0f",
   "metadata": {},
   "outputs": [],
   "source": [
    "def part_b_values(colValue):\n",
    "    if colValue == '0 - never':\n",
    "        return 0\n",
    "    if colValue == '1 - almost never':\n",
    "        return 1\n",
    "    if colValue == '2 - sometimes':\n",
    "        return 2\n",
    "    if colValue == '3 - farly often':\n",
    "        return 3\n",
    "    if colValue == '4 - very often':\n",
    "        return 4"
   ]
  },
  {
   "cell_type": "code",
   "execution_count": 172,
   "id": "ad11d633",
   "metadata": {},
   "outputs": [],
   "source": [
    "def part_b_values_reverse(colValue):\n",
    "    if colValue == '0 - never':\n",
    "        return 4\n",
    "    if colValue == '1 - almost never':\n",
    "        return 3\n",
    "    if colValue == '2 - sometimes':\n",
    "        return 2\n",
    "    if colValue == '3 - farly often':\n",
    "        return 1\n",
    "    if colValue == '4 - very often':\n",
    "        return 0"
   ]
  },
  {
   "cell_type": "code",
   "execution_count": 269,
   "id": "034bb489",
   "metadata": {},
   "outputs": [],
   "source": [
    "import numpy as np\n",
    "import math\n",
    "def get_part_b_values():\n",
    "    x = (dataset['part_b_q1'].apply(part_b_values) \n",
    "        + dataset['part_b_q2'].apply(part_b_values) \n",
    "        + dataset['part_b_q3'].apply(part_b_values)  \n",
    "        + dataset['part_b_q4'].apply(part_b_values_reverse) \n",
    "        + dataset['part_b_q5'].apply(part_b_values_reverse) \n",
    "        + dataset['part_b_q6'].apply(part_b_values) \n",
    "        + dataset['part_b_q7'].apply(part_b_values_reverse) \n",
    "        + dataset['part_b_q8'].apply(part_b_values_reverse) \n",
    "        + dataset['part_b_q9'].apply(part_b_values) \n",
    "        + dataset['part_b_q10'].apply(part_b_values))\n",
    "    print(x)\n",
    "    if (x>=0 & x<=13):\n",
    "        return 1\n",
    "    elif(x>=14 & x<=26):\n",
    "        return 2\n",
    "    else:\n",
    "        return 3"
   ]
  },
  {
   "cell_type": "code",
   "execution_count": 266,
   "id": "5143f68f",
   "metadata": {},
   "outputs": [
    {
     "ename": "ValueError",
     "evalue": "The truth value of a Series is ambiguous. Use a.empty, a.bool(), a.item(), a.any() or a.all().",
     "output_type": "error",
     "traceback": [
      "\u001b[0;31m---------------------------------------------------------------------------\u001b[0m",
      "\u001b[0;31mValueError\u001b[0m                                Traceback (most recent call last)",
      "\u001b[0;32m/var/folders/ym/_wjy7pyj6zjdlnf94rq4grjr0000gn/T/ipykernel_1155/1561153222.py\u001b[0m in \u001b[0;36m<module>\u001b[0;34m\u001b[0m\n\u001b[0;32m----> 1\u001b[0;31m \u001b[0mdataset\u001b[0m\u001b[0;34m[\u001b[0m\u001b[0;34m'newCol'\u001b[0m\u001b[0;34m]\u001b[0m \u001b[0;34m=\u001b[0m \u001b[0mget_part_b_values\u001b[0m\u001b[0;34m(\u001b[0m\u001b[0;34m)\u001b[0m\u001b[0;34m\u001b[0m\u001b[0;34m\u001b[0m\u001b[0m\n\u001b[0m",
      "\u001b[0;32m/var/folders/ym/_wjy7pyj6zjdlnf94rq4grjr0000gn/T/ipykernel_1155/2265144991.py\u001b[0m in \u001b[0;36mget_part_b_values\u001b[0;34m()\u001b[0m\n\u001b[1;32m     13\u001b[0m         + dataset['part_b_q10'].apply(part_b_values))\n\u001b[1;32m     14\u001b[0m     \u001b[0;31m#print(x)\u001b[0m\u001b[0;34m\u001b[0m\u001b[0;34m\u001b[0m\u001b[0m\n\u001b[0;32m---> 15\u001b[0;31m     \u001b[0;32mif\u001b[0m \u001b[0;34m(\u001b[0m\u001b[0mx\u001b[0m\u001b[0;34m>=\u001b[0m\u001b[0;36m0\u001b[0m \u001b[0;34m&\u001b[0m \u001b[0mx\u001b[0m\u001b[0;34m<=\u001b[0m\u001b[0;36m13\u001b[0m\u001b[0;34m)\u001b[0m\u001b[0;34m.\u001b[0m\u001b[0many\u001b[0m\u001b[0;34m(\u001b[0m\u001b[0;34m)\u001b[0m\u001b[0;34m:\u001b[0m\u001b[0;34m\u001b[0m\u001b[0;34m\u001b[0m\u001b[0m\n\u001b[0m\u001b[1;32m     16\u001b[0m         \u001b[0;32mreturn\u001b[0m \u001b[0;36m1\u001b[0m\u001b[0;34m\u001b[0m\u001b[0;34m\u001b[0m\u001b[0m\n\u001b[1;32m     17\u001b[0m     \u001b[0;32melif\u001b[0m\u001b[0;34m(\u001b[0m\u001b[0mx\u001b[0m\u001b[0;34m>=\u001b[0m\u001b[0;36m14\u001b[0m \u001b[0;34m&\u001b[0m \u001b[0mx\u001b[0m\u001b[0;34m<=\u001b[0m\u001b[0;36m26\u001b[0m\u001b[0;34m)\u001b[0m\u001b[0;34m.\u001b[0m\u001b[0many\u001b[0m\u001b[0;34m(\u001b[0m\u001b[0;34m)\u001b[0m\u001b[0;34m:\u001b[0m\u001b[0;34m\u001b[0m\u001b[0;34m\u001b[0m\u001b[0m\n",
      "\u001b[0;32m~/opt/anaconda3/lib/python3.9/site-packages/pandas/core/generic.py\u001b[0m in \u001b[0;36m__nonzero__\u001b[0;34m(self)\u001b[0m\n\u001b[1;32m   1525\u001b[0m     \u001b[0;34m@\u001b[0m\u001b[0mfinal\u001b[0m\u001b[0;34m\u001b[0m\u001b[0;34m\u001b[0m\u001b[0m\n\u001b[1;32m   1526\u001b[0m     \u001b[0;32mdef\u001b[0m \u001b[0m__nonzero__\u001b[0m\u001b[0;34m(\u001b[0m\u001b[0mself\u001b[0m\u001b[0;34m)\u001b[0m\u001b[0;34m:\u001b[0m\u001b[0;34m\u001b[0m\u001b[0;34m\u001b[0m\u001b[0m\n\u001b[0;32m-> 1527\u001b[0;31m         raise ValueError(\n\u001b[0m\u001b[1;32m   1528\u001b[0m             \u001b[0;34mf\"The truth value of a {type(self).__name__} is ambiguous. \"\u001b[0m\u001b[0;34m\u001b[0m\u001b[0;34m\u001b[0m\u001b[0m\n\u001b[1;32m   1529\u001b[0m             \u001b[0;34m\"Use a.empty, a.bool(), a.item(), a.any() or a.all().\"\u001b[0m\u001b[0;34m\u001b[0m\u001b[0;34m\u001b[0m\u001b[0m\n",
      "\u001b[0;31mValueError\u001b[0m: The truth value of a Series is ambiguous. Use a.empty, a.bool(), a.item(), a.any() or a.all()."
     ]
    }
   ],
   "source": [
    "dataset['newCol'] = get_part_b_values()"
   ]
  },
  {
   "cell_type": "code",
   "execution_count": 262,
   "id": "b456c917",
   "metadata": {},
   "outputs": [
    {
     "name": "stdout",
     "output_type": "stream",
     "text": [
      "0      1\n",
      "1      1\n",
      "2      1\n",
      "3      1\n",
      "4      1\n",
      "      ..\n",
      "657    1\n",
      "658    1\n",
      "659    1\n",
      "660    1\n",
      "661    1\n",
      "Name: newCol, Length: 662, dtype: int64\n"
     ]
    }
   ],
   "source": [
    "print(dataset.newCol)"
   ]
  },
  {
   "cell_type": "code",
   "execution_count": null,
   "id": "d1b2fd0d",
   "metadata": {},
   "outputs": [],
   "source": []
  },
  {
   "cell_type": "code",
   "execution_count": null,
   "id": "e870d8c7",
   "metadata": {},
   "outputs": [],
   "source": []
  },
  {
   "cell_type": "code",
   "execution_count": null,
   "id": "bdb42c64",
   "metadata": {},
   "outputs": [],
   "source": []
  },
  {
   "cell_type": "code",
   "execution_count": null,
   "id": "c947528a",
   "metadata": {},
   "outputs": [],
   "source": []
  },
  {
   "cell_type": "code",
   "execution_count": null,
   "id": "3eec3413",
   "metadata": {},
   "outputs": [],
   "source": []
  },
  {
   "cell_type": "code",
   "execution_count": null,
   "id": "54473034",
   "metadata": {},
   "outputs": [],
   "source": []
  },
  {
   "cell_type": "code",
   "execution_count": null,
   "id": "bb9c178d",
   "metadata": {},
   "outputs": [],
   "source": []
  },
  {
   "cell_type": "code",
   "execution_count": null,
   "id": "2de1637c",
   "metadata": {},
   "outputs": [],
   "source": []
  },
  {
   "cell_type": "code",
   "execution_count": null,
   "id": "ca8f2203",
   "metadata": {},
   "outputs": [],
   "source": []
  },
  {
   "cell_type": "code",
   "execution_count": null,
   "id": "7abdf352",
   "metadata": {},
   "outputs": [],
   "source": []
  },
  {
   "cell_type": "code",
   "execution_count": null,
   "id": "8c228f8c",
   "metadata": {},
   "outputs": [],
   "source": []
  }
 ],
 "metadata": {
  "kernelspec": {
   "display_name": "Python 3 (ipykernel)",
   "language": "python",
   "name": "python3"
  },
  "language_info": {
   "codemirror_mode": {
    "name": "ipython",
    "version": 3
   },
   "file_extension": ".py",
   "mimetype": "text/x-python",
   "name": "python",
   "nbconvert_exporter": "python",
   "pygments_lexer": "ipython3",
   "version": "3.9.13"
  }
 },
 "nbformat": 4,
 "nbformat_minor": 5
}
